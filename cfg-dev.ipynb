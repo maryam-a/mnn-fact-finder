{
 "cells": [
  {
   "cell_type": "code",
   "execution_count": 15,
   "metadata": {
    "collapsed": false
   },
   "outputs": [],
   "source": [
    "import numpy as np\n",
    "import requests\n",
    "from requests.auth import HTTPBasicAuth\n",
    "import ast\n",
    "import pandas as pd"
   ]
  },
  {
   "cell_type": "code",
   "execution_count": 2,
   "metadata": {
    "collapsed": false
   },
   "outputs": [],
   "source": [
    "counties = {\n",
    "'Barnstable': '001',\n",
    "'Berkshire': '003',\n",
    "'Bristol': '005',\n",
    "'Essex': '009',\n",
    "'Franklin': '011',\n",
    "'Hampden': '013',\n",
    "'Hampshire': '015',\n",
    "'Middlesex': '017',\n",
    "'Norfolk': '021',\n",
    "'Plymouth': '023',\n",
    "'Suffolk': '025',\n",
    "'Worcester': '027' \n",
    "}"
   ]
  },
  {
   "cell_type": "markdown",
   "metadata": {},
   "source": [
    "### What counties do you want to look at? "
   ]
  },
  {
   "cell_type": "code",
   "execution_count": 3,
   "metadata": {
    "collapsed": true
   },
   "outputs": [],
   "source": [
    "county_list = \"Suffolk, Norfolk\""
   ]
  },
  {
   "cell_type": "markdown",
   "metadata": {},
   "source": [
    "## Set Variables to Fetch "
   ]
  },
  {
   "cell_type": "code",
   "execution_count": 4,
   "metadata": {
    "collapsed": false
   },
   "outputs": [],
   "source": [
    "variables = {\n",
    "    \"B19001_002E\": \"Less than\\n10,000\",\n",
    "    \"B19001_003E\": \"10,000 to\\n14,999\",\n",
    "    \"B19001_004E\": \"15,000 to\\n19,999\",\n",
    "    \"B19001_005E\": \"20,000 to\\n24,999\",\n",
    "    \"B19001_006E\": \"25,000 to\\n29,999\",\n",
    "    \"B19001_007E\": \"30,000 to\\n34,999\",\n",
    "    \"B19001_008E\": \"35,000 to\\n39,999\",\n",
    "    \"B19001_009E\": \"40,000 to\\n44,999\",\n",
    "    \"B19001_010E\": \"45,000 to\\n49,999\",\n",
    "    \"B19001_011E\": \"50,000 to\\n59,999\",\n",
    "    \"B19001_012E\": \"60,000 to\\n74,999\",\n",
    "    \"B19001_013E\": \"75,000 to\\n99,999\",\n",
    "    \"B19001_014E\": \"100,000 to\\n124,999\",\n",
    "    \"B19001_015E\": \"125,000 to\\n149,999\",\n",
    "    \"B19001_016E\": \"150,000 to\\n199,999\",\n",
    "    \"B19001_017E\": \"Over\\n200,000\"\n",
    "}"
   ]
  },
  {
   "cell_type": "code",
   "execution_count": 5,
   "metadata": {
    "collapsed": false
   },
   "outputs": [],
   "source": [
    "var_list = \",\".join(variables.keys())"
   ]
  },
  {
   "cell_type": "code",
   "execution_count": 6,
   "metadata": {
    "collapsed": false
   },
   "outputs": [],
   "source": [
    "if county_list != \"*\":\n",
    "    county_list = county_list.split(\", \")\n",
    "    county_list = \",\".join(counties[c] for c in county_list)"
   ]
  },
  {
   "cell_type": "code",
   "execution_count": 7,
   "metadata": {
    "collapsed": true
   },
   "outputs": [],
   "source": [
    "apikey = 'a5f4310141ca2f8f821d4f1a088c3d7e09381db7'"
   ]
  },
  {
   "cell_type": "code",
   "execution_count": 8,
   "metadata": {
    "collapsed": true
   },
   "outputs": [],
   "source": [
    "req = \"http://api.census.gov/data/2015/acs1?get=NAME,\" + var_list + \"&for=county:\" + county_list + \"&in=state:25&key=\" + apikey"
   ]
  },
  {
   "cell_type": "code",
   "execution_count": 9,
   "metadata": {
    "collapsed": true
   },
   "outputs": [],
   "source": [
    "r = requests.get(req)"
   ]
  },
  {
   "cell_type": "code",
   "execution_count": 10,
   "metadata": {
    "collapsed": false,
    "scrolled": false
   },
   "outputs": [],
   "source": [
    "x = pd.DataFrame(ast.literal_eval(r.text))\n",
    "x.columns = x.iloc[0]\n",
    "x = x.reindex(x.index.drop(0))"
   ]
  },
  {
   "cell_type": "markdown",
   "metadata": {},
   "source": [
    "## Returned Data"
   ]
  },
  {
   "cell_type": "code",
   "execution_count": 11,
   "metadata": {
    "collapsed": false
   },
   "outputs": [
    {
     "data": {
      "text/html": [
       "<div>\n",
       "<table border=\"1\" class=\"dataframe\">\n",
       "  <thead>\n",
       "    <tr style=\"text-align: right;\">\n",
       "      <th></th>\n",
       "      <th>NAME</th>\n",
       "      <th>B19001_005E</th>\n",
       "      <th>B19001_004E</th>\n",
       "      <th>B19001_014E</th>\n",
       "      <th>B19001_003E</th>\n",
       "      <th>B19001_002E</th>\n",
       "      <th>B19001_015E</th>\n",
       "      <th>B19001_010E</th>\n",
       "      <th>B19001_012E</th>\n",
       "      <th>B19001_013E</th>\n",
       "      <th>B19001_011E</th>\n",
       "      <th>B19001_016E</th>\n",
       "      <th>B19001_009E</th>\n",
       "      <th>B19001_008E</th>\n",
       "      <th>B19001_017E</th>\n",
       "      <th>B19001_007E</th>\n",
       "      <th>B19001_006E</th>\n",
       "      <th>state</th>\n",
       "      <th>county</th>\n",
       "    </tr>\n",
       "  </thead>\n",
       "  <tbody>\n",
       "    <tr>\n",
       "      <th>1</th>\n",
       "      <td>Norfolk County, Massachusetts</td>\n",
       "      <td>7208</td>\n",
       "      <td>7892</td>\n",
       "      <td>29909</td>\n",
       "      <td>9325</td>\n",
       "      <td>11476</td>\n",
       "      <td>22459</td>\n",
       "      <td>6714</td>\n",
       "      <td>20098</td>\n",
       "      <td>32453</td>\n",
       "      <td>13098</td>\n",
       "      <td>29950</td>\n",
       "      <td>6644</td>\n",
       "      <td>7479</td>\n",
       "      <td>40689</td>\n",
       "      <td>7575</td>\n",
       "      <td>7446</td>\n",
       "      <td>25</td>\n",
       "      <td>021</td>\n",
       "    </tr>\n",
       "    <tr>\n",
       "      <th>2</th>\n",
       "      <td>Suffolk County, Massachusetts</td>\n",
       "      <td>11799</td>\n",
       "      <td>14306</td>\n",
       "      <td>28050</td>\n",
       "      <td>21801</td>\n",
       "      <td>31907</td>\n",
       "      <td>17644</td>\n",
       "      <td>9509</td>\n",
       "      <td>23501</td>\n",
       "      <td>30829</td>\n",
       "      <td>20388</td>\n",
       "      <td>18853</td>\n",
       "      <td>11114</td>\n",
       "      <td>11138</td>\n",
       "      <td>25879</td>\n",
       "      <td>11244</td>\n",
       "      <td>12879</td>\n",
       "      <td>25</td>\n",
       "      <td>025</td>\n",
       "    </tr>\n",
       "  </tbody>\n",
       "</table>\n",
       "</div>"
      ],
      "text/plain": [
       "0                           NAME B19001_005E B19001_004E B19001_014E  \\\n",
       "1  Norfolk County, Massachusetts        7208        7892       29909   \n",
       "2  Suffolk County, Massachusetts       11799       14306       28050   \n",
       "\n",
       "0 B19001_003E B19001_002E B19001_015E B19001_010E B19001_012E B19001_013E  \\\n",
       "1        9325       11476       22459        6714       20098       32453   \n",
       "2       21801       31907       17644        9509       23501       30829   \n",
       "\n",
       "0 B19001_011E B19001_016E B19001_009E B19001_008E B19001_017E B19001_007E  \\\n",
       "1       13098       29950        6644        7479       40689        7575   \n",
       "2       20388       18853       11114       11138       25879       11244   \n",
       "\n",
       "0 B19001_006E state county  \n",
       "1        7446    25    021  \n",
       "2       12879    25    025  "
      ]
     },
     "execution_count": 11,
     "metadata": {},
     "output_type": "execute_result"
    }
   ],
   "source": [
    "x"
   ]
  },
  {
   "cell_type": "markdown",
   "metadata": {},
   "source": [
    "## Plotting"
   ]
  },
  {
   "cell_type": "code",
   "execution_count": 12,
   "metadata": {
    "collapsed": true
   },
   "outputs": [],
   "source": [
    "tableau20 = [(31, 119, 180), (255, 127, 14), (255, 187, 120),    \n",
    "             (44, 160, 44), (152, 223, 138), (174, 199, 232), (214, 39, 40), (255, 152, 150),    \n",
    "             (148, 103, 189), (197, 176, 213), (140, 86, 75), (196, 156, 148),    \n",
    "             (227, 119, 194), (247, 182, 210), (127, 127, 127), (199, 199, 199),    \n",
    "             (188, 189, 34), (219, 219, 141), (23, 190, 207), (158, 218, 229)]\n",
    "\n",
    "for i in range(len(tableau20)):    \n",
    "    r, g, b = tableau20[i]    \n",
    "    tableau20[i] = (r / 255., g / 255., b / 255.)    "
   ]
  },
  {
   "cell_type": "code",
   "execution_count": 18,
   "metadata": {
    "collapsed": false
   },
   "outputs": [
    {
     "data": {
      "image/png": "[encoded data removed]",
      "text/plain": [
       "<matplotlib.figure.Figure at 0x118107690>"
      ]
     },
     "metadata": {},
     "output_type": "display_data"
    }
   ],
   "source": [
    "import matplotlib.pyplot as plt\n",
    "from matplotlib.dates import date2num\n",
    "import datetime\n",
    "\n",
    "percentage = False\n",
    "\n",
    "key = x['NAME']\n",
    "n_groups = len(variables.keys())\n",
    "\n",
    "fig, ax = plt.subplots(figsize=(20,10))\n",
    "\n",
    "index = np.arange(1, n_groups*2+1, 2)\n",
    "bar_width = 1.5/len(key)\n",
    "\n",
    "opacity = 0.6\n",
    "\n",
    "i = 0\n",
    "for name in key:\n",
    "    cols = variables.keys()\n",
    "    data = x.loc[x['NAME']==name][cols].reindex_axis(sorted(cols), axis=1).as_matrix()[0]\n",
    "    data = [float(val) for val in data]\n",
    "    total = sum(data)\n",
    "    if percentage: data = [val/total for val in data]\n",
    "    indiv_plot = plt.bar(index + bar_width*i, data, bar_width,\n",
    "                 alpha=opacity,\n",
    "                 color=tableau20[i],\n",
    "                 linewidth = 0,\n",
    "                 label=name)\n",
    "    i += 1\n",
    "    \n",
    "plt.xlabel('Counties', fontsize=18)\n",
    "if percentage: \n",
    "    plt.ylabel('Percentage at income level', fontsize=18)\n",
    "else:\n",
    "    plt.ylabel('Number of people at income level', fontsize=18)\n",
    "plt.title('Income Level Distribution by County', fontsize=18)\n",
    "plt.yticks(fontsize=12)\n",
    "plt.xticks(index + bar_width*len(key) / 2, [variables[k] for k in sorted(cols)], fontsize=10)\n",
    "\n",
    "plt.legend()\n",
    "\n",
    "ax.spines[\"top\"].set_visible(False)    \n",
    "ax.spines[\"bottom\"].set_visible(False)    \n",
    "ax.spines[\"right\"].set_visible(False)    \n",
    "ax.spines[\"left\"].set_visible(False) \n",
    "ax.get_xaxis().tick_bottom()    \n",
    "ax.get_yaxis().tick_left() \n",
    "\n",
    "plt.show()"
   ]
  },
  {
   "cell_type": "code",
   "execution_count": null,
   "metadata": {
    "collapsed": true
   },
   "outputs": [],
   "source": []
  }
 ],
 "metadata": {
  "kernelspec": {
   "display_name": "Python 2",
   "language": "python",
   "name": "python2"
  },
  "language_info": {
   "codemirror_mode": {
    "name": "ipython",
    "version": 2
   },
   "file_extension": ".py",
   "mimetype": "text/x-python",
   "name": "python",
   "nbconvert_exporter": "python",
   "pygments_lexer": "ipython2",
   "version": "2.7.12"
  }
 },
 "nbformat": 4,
 "nbformat_minor": 2
}
